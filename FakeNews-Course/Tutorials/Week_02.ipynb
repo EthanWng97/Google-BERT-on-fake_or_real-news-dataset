{
 "cells": [
  {
   "cell_type": "markdown",
   "metadata": {
    "toc": "true"
   },
   "source": [
    "# Table of Contents\n",
    " <p><div class=\"lev1 toc-item\"><a href=\"#Setup\" data-toc-modified-id=\"Setup-1\"><span class=\"toc-item-num\">1&nbsp;&nbsp;</span>Setup</a></div><div class=\"lev1 toc-item\"><a href=\"#Semantics\" data-toc-modified-id=\"Semantics-2\"><span class=\"toc-item-num\">2&nbsp;&nbsp;</span>Semantics</a></div><div class=\"lev2 toc-item\"><a href=\"#Motivation\" data-toc-modified-id=\"Motivation-21\"><span class=\"toc-item-num\">2.1&nbsp;&nbsp;</span>Motivation</a></div><div class=\"lev2 toc-item\"><a href=\"#Term-Document\" data-toc-modified-id=\"Term-Document-22\"><span class=\"toc-item-num\">2.2&nbsp;&nbsp;</span>Term-Document</a></div><div class=\"lev3 toc-item\"><a href=\"#Bag-of-Words\" data-toc-modified-id=\"Bag-of-Words-221\"><span class=\"toc-item-num\">2.2.1&nbsp;&nbsp;</span>Bag-of-Words</a></div><div class=\"lev4 toc-item\"><a href=\"#Cleaning-Text-Data\" data-toc-modified-id=\"Cleaning-Text-Data-2211\"><span class=\"toc-item-num\">2.2.1.1&nbsp;&nbsp;</span>Cleaning Text Data</a></div><div class=\"lev4 toc-item\"><a href=\"#Stemming-and-Lemmatizing\" data-toc-modified-id=\"Stemming-and-Lemmatizing-2212\"><span class=\"toc-item-num\">2.2.1.2&nbsp;&nbsp;</span>Stemming and Lemmatizing</a></div><div class=\"lev3 toc-item\"><a href=\"#TF-IDF\" data-toc-modified-id=\"TF-IDF-222\"><span class=\"toc-item-num\">2.2.2&nbsp;&nbsp;</span>TF-IDF</a></div><div class=\"lev2 toc-item\"><a href=\"#Term-Context\" data-toc-modified-id=\"Term-Context-23\"><span class=\"toc-item-num\">2.3&nbsp;&nbsp;</span>Term-Context</a></div><div class=\"lev1 toc-item\"><a href=\"#Word2Vec\" data-toc-modified-id=\"Word2Vec-3\"><span class=\"toc-item-num\">3&nbsp;&nbsp;</span>Word2Vec</a></div><div class=\"lev2 toc-item\"><a href=\"#Continuous-Bag-of-Words\" data-toc-modified-id=\"Continuous-Bag-of-Words-31\"><span class=\"toc-item-num\">3.1&nbsp;&nbsp;</span>Continuous Bag of Words</a></div><div class=\"lev2 toc-item\"><a href=\"#Skip-gram\" data-toc-modified-id=\"Skip-gram-32\"><span class=\"toc-item-num\">3.2&nbsp;&nbsp;</span>Skip-gram</a></div><div class=\"lev2 toc-item\"><a href=\"#Example\" data-toc-modified-id=\"Example-33\"><span class=\"toc-item-num\">3.3&nbsp;&nbsp;</span>Example</a></div><div class=\"lev1 toc-item\"><a href=\"#Doc2Vec\" data-toc-modified-id=\"Doc2Vec-4\"><span class=\"toc-item-num\">4&nbsp;&nbsp;</span>Doc2Vec</a></div><div class=\"lev2 toc-item\"><a href=\"#Doc2Vec,-the-most-powerful-extension-of-word2vec\" data-toc-modified-id=\"Doc2Vec,-the-most-powerful-extension-of-word2vec-41\"><span class=\"toc-item-num\">4.1&nbsp;&nbsp;</span>Doc2Vec, the most powerful extension of word2vec</a></div><div class=\"lev2 toc-item\"><a href=\"#Distrubted-Memory-(DM)\" data-toc-modified-id=\"Distrubted-Memory-(DM)-42\"><span class=\"toc-item-num\">4.2&nbsp;&nbsp;</span>Distrubted Memory (DM)</a></div><div class=\"lev2 toc-item\"><a href=\"#Distrubted-Bag-of-Words-(DBOW)\" data-toc-modified-id=\"Distrubted-Bag-of-Words-(DBOW)-43\"><span class=\"toc-item-num\">4.3&nbsp;&nbsp;</span>Distrubted Bag of Words (DBOW)</a></div><div class=\"lev1 toc-item\"><a href=\"#Exercises\" data-toc-modified-id=\"Exercises-5\"><span class=\"toc-item-num\">5&nbsp;&nbsp;</span>Exercises</a></div>"
   ]
  },
  {
   "cell_type": "markdown",
   "metadata": {},
   "source": [
    "# Setup\n",
    "----"
   ]
  },
  {
   "cell_type": "markdown",
   "metadata": {},
   "source": [
    "This notebook assumes you have done the setup required in Week 1.\n",
    "\n",
    "In this lecture we will be using Gensim and NLTK, two widely used Python Natural Language Processing libraries."
   ]
  },
  {
   "cell_type": "code",
   "execution_count": 3,
   "metadata": {
    "collapsed": true
   },
   "outputs": [],
   "source": [
    "reset -f -s"
   ]
  },
  {
   "cell_type": "code",
   "execution_count": 1,
   "metadata": {},
   "outputs": [],
   "source": [
    "def pip_install(*packages):\n",
    "    '''\n",
    "    Author: Sy Hwang, Hollis Nolan, Shuheng Liu \n",
    "    \n",
    "    Install packages using pip\n",
    "    Alternatively just use command line\n",
    "    pip install package_name\n",
    "    '''\n",
    "    import pip\n",
    "    if int(pip.__version__.split(\".\")[0]) >= 10:  # since 10.0.0, pip does not support pip.main() any more\n",
    "        from pip._internal import main\n",
    "    else:\n",
    "        from pip import main\n",
    "\n",
    "    for package in packages:\n",
    "        try:\n",
    "            main([\"install\", \"--upgrade\", package, \"--user\"])\n",
    "        except Exception as e:\n",
    "            print(\"Unable to install {} using pip.\".format(package))\n",
    "            print(\"Exception:\", e)"
   ]
  },
  {
   "cell_type": "code",
   "execution_count": null,
   "metadata": {},
   "outputs": [],
   "source": []
  },
  {
   "cell_type": "code",
   "execution_count": null,
   "metadata": {
    "collapsed": true
   },
   "outputs": [],
   "source": [
    "pip_install('gensim', 'nltk')"
   ]
  },
  {
   "cell_type": "code",
   "execution_count": 2,
   "metadata": {},
   "outputs": [
    {
     "name": "stdout",
     "output_type": "stream",
     "text": [
      "[nltk_data] Downloading package gutenberg to\n",
      "[nltk_data]     C:\\Users\\snow\\AppData\\Roaming\\nltk_data...\n",
      "[nltk_data]   Package gutenberg is already up-to-date!\n",
      "[nltk_data] Downloading package reuters to\n",
      "[nltk_data]     C:\\Users\\snow\\AppData\\Roaming\\nltk_data...\n",
      "[nltk_data]   Package reuters is already up-to-date!\n",
      "[nltk_data] Downloading package stopwords to\n",
      "[nltk_data]     C:\\Users\\snow\\AppData\\Roaming\\nltk_data...\n",
      "[nltk_data]   Package stopwords is already up-to-date!\n",
      "[nltk_data] Downloading package punkt to\n",
      "[nltk_data]     C:\\Users\\snow\\AppData\\Roaming\\nltk_data...\n",
      "[nltk_data]   Package punkt is already up-to-date!\n"
     ]
    },
    {
     "data": {
      "text/plain": [
       "True"
      ]
     },
     "execution_count": 2,
     "metadata": {},
     "output_type": "execute_result"
    }
   ],
   "source": [
    "import nltk\n",
    "nltk.download('gutenberg')\n",
    "nltk.download('reuters')\n",
    "nltk.download('stopwords')\n",
    "nltk.download('punkt')"
   ]
  },
  {
   "cell_type": "code",
   "execution_count": 5,
   "metadata": {
    "collapsed": true
   },
   "outputs": [],
   "source": [
    "import os\n",
    "ROOTDIR = os.path.abspath(os.path.dirname('__file__'))\n",
    "DATADIR = os.path.join(ROOTDIR, 'data')"
   ]
  },
  {
   "cell_type": "markdown",
   "metadata": {},
   "source": [
    "# Semantics\n",
    "---"
   ]
  },
  {
   "cell_type": "markdown",
   "metadata": {},
   "source": [
    "## Motivation"
   ]
  },
  {
   "cell_type": "markdown",
   "metadata": {},
   "source": [
    "If we want to be able to categorize text, we need to be able to generate features for articles, paragraphs, sentences and other bodies of text, based on the information they contain and what they represent. There are a number of ways to achieve this and we will go over 3 approaches."
   ]
  },
  {
   "cell_type": "markdown",
   "metadata": {},
   "source": [
    "## Term-Document"
   ]
  },
  {
   "cell_type": "markdown",
   "metadata": {},
   "source": [
    "### Bag-of-Words\n",
    "\n",
    "One of the simplest ways to extract features from text is to just count how many times a word appears in a body of text. In this model, the order of words does not matter and only the number of occurrences of each unique term for each document is taken into account."
   ]
  },
  {
   "cell_type": "code",
   "execution_count": 6,
   "metadata": {
    "collapsed": true
   },
   "outputs": [],
   "source": [
    "import pandas as pd\n",
    "\n",
    "#Load movie reviews dataset\n",
    "df = pd.read_csv(os.path.join(DATADIR, 'movie_reviews.csv'), nrows=100000)\n",
    "texts = df.text.values #pd.Series -> np.ndarray"
   ]
  },
  {
   "cell_type": "code",
   "execution_count": 7,
   "metadata": {
    "collapsed": true
   },
   "outputs": [],
   "source": [
    "import nltk\n",
    "# Transform each review string as a list of token strings. May take a few seconds\n",
    "tokenized = [nltk.word_tokenize(review) for review in texts]"
   ]
  },
  {
   "cell_type": "code",
   "execution_count": 8,
   "metadata": {},
   "outputs": [
    {
     "name": "stdout",
     "output_type": "stream",
     "text": [
      "Example review:\n",
      "   Raw: So ingenious in concept, design and execution that you could watch it on a postage stamp-sized screen and still be engulfed by its charm. \n",
      "\n",
      "   Tokenized: ['So', 'ingenious', 'in', 'concept', ',', 'design', 'and', 'execution', 'that', 'you', 'could', 'watch', 'it', 'on', 'a', 'postage', 'stamp-sized', 'screen', 'and', 'still', 'be', 'engulfed', 'by', 'its', 'charm', '.']\n"
     ]
    }
   ],
   "source": [
    "n = 10 #arbitrary pick\n",
    "print('Example review:\\n   Raw: {} \\n\\n   Tokenized: {}'.format(texts[n], [i for i in tokenized[n]]))"
   ]
  },
  {
   "cell_type": "markdown",
   "metadata": {
    "collapsed": true
   },
   "source": [
    "#### Cleaning Text Data"
   ]
  },
  {
   "cell_type": "markdown",
   "metadata": {},
   "source": [
    "##### Removing Stopwords and Punctuations, Lower-case"
   ]
  },
  {
   "cell_type": "markdown",
   "metadata": {},
   "source": [
    "- Sometimes it's useful to drop __Stopwords__ when breaking down documents into units of tokens. Stopwords are terms that appear so frequently in a corpus that they provide little to no informative value to the task at hand. Common stopwords include words like *the*, *of*, *to*, and *for*.   \n",
    "- __Punctuations__ are very much the same; while they may provide linguistic context, punctuations can sometimes be too common to provide any value.\n",
    "\n",
    "Let's take a look at the most common tokens in our movie reviews dataset:"
   ]
  },
  {
   "cell_type": "code",
   "execution_count": 24,
   "metadata": {},
   "outputs": [
    {
     "name": "stdout",
     "output_type": "stream",
     "text": [
      " 1.    .  freq:  102815\n",
      " 2.    ,  freq:   97049\n",
      " 3.  the  freq:   94387\n",
      " 4.    a  freq:   66899\n",
      " 5.   of  freq:   58012\n",
      " 6.  and  freq:   57274\n",
      " 7.   to  freq:   36228\n",
      " 8.   's  freq:   34515\n",
      " 9.   is  freq:   33891\n",
      "10.   it  freq:   30869\n"
     ]
    }
   ],
   "source": [
    "from collections import Counter\n",
    "\n",
    "#Note that we convert all tokens to lower case, otherwise words like *The* and *the* are different tokens.\n",
    "token_counter = Counter(token.lower() for sentence in tokenized for token in sentence)\n",
    "top10 = token_counter.most_common()[:10]\n",
    "for i, t in enumerate(top10):\n",
    "    print('{:>2}.{:>5}  freq: {:>7}'.format(i+1, t[0], t[1]))"
   ]
  },
  {
   "cell_type": "markdown",
   "metadata": {},
   "source": [
    "These are all either stopwords or punctuations!  \n",
    "Thankfully there's an easy way to remove them: `nltk` and the built-in `string` module have separate lists of stopwords and punctuations"
   ]
  },
  {
   "cell_type": "markdown",
   "metadata": {},
   "source": [
    "#### Stemming and Lemmatizing"
   ]
  },
  {
   "cell_type": "markdown",
   "metadata": {},
   "source": [
    "- We can also find lots of words that have similar meanings, but differ only by their conjugation and inflections. Sometimes it makes sense to normalize different forms of the same word to a single root token before indexing. There are two ways to do this:\n",
    "    - __Stemming__: heuristic approach that chops off the endings of different forms of words, trying to return the root morpheme that stays the same even with varying inflections.\n",
    "        - Example:\n",
    "            - I saw that movie and it was terrible $\\rightarrow$ I saw that movi and it wa terribl\n",
    "            - informative informational inform informing $\\rightarrow$ inform inform inform inform     \n",
    "\n",
    "    - __Lemmatizing__: returns the derivational normal form or the dictionary form of the word, called the lemma\n",
    "        - Example:\n",
    "            - I saw that movie and it was terrible $\\rightarrow$ I see that movie and it be terrible\n",
    "            - am are is be $\\rightarrow$ be be be be\n",
    "            "
   ]
  },
  {
   "cell_type": "markdown",
   "metadata": {},
   "source": [
    "![](images/preprocessing_text.png)"
   ]
  },
  {
   "cell_type": "code",
   "execution_count": 26,
   "metadata": {
    "collapsed": true
   },
   "outputs": [],
   "source": [
    "from nltk.corpus import stopwords\n",
    "from string import punctuation\n",
    "from itertools import chain\n",
    "\n",
    "def clean_text(tokenized_list, sw, punct, lemmatize=False):\n",
    "    new_list = []\n",
    "    for doc in tokenized_list:\n",
    "        new_list.append([token.lower() for token in doc if token.lower() not in chain(punct, sw)])\n",
    "    return new_list\n",
    "\n",
    "# Remove punctuations and stopwords, and lower-case text\n",
    "sw = stopwords.words('english')\n",
    "punct = punctuation\n",
    "cleaned = clean_text(tokenized, sw, punct)"
   ]
  },
  {
   "cell_type": "code",
   "execution_count": 12,
   "metadata": {},
   "outputs": [
    {
     "name": "stdout",
     "output_type": "stream",
     "text": [
      "'pattern' package not found; tag filters are not available for English\n",
      "adding document #0 to Dictionary(0 unique tokens: [])\n",
      "adding document #10000 to Dictionary(19398 unique tokens: ['...', 'entire', 'ever', 'filmgoers', 'generation']...)\n",
      "adding document #20000 to Dictionary(28254 unique tokens: ['...', 'entire', 'ever', 'filmgoers', 'generation']...)\n",
      "adding document #30000 to Dictionary(34454 unique tokens: ['...', 'entire', 'ever', 'filmgoers', 'generation']...)\n",
      "adding document #40000 to Dictionary(39899 unique tokens: ['...', 'entire', 'ever', 'filmgoers', 'generation']...)\n",
      "adding document #50000 to Dictionary(45118 unique tokens: ['...', 'entire', 'ever', 'filmgoers', 'generation']...)\n",
      "adding document #60000 to Dictionary(50200 unique tokens: ['...', 'entire', 'ever', 'filmgoers', 'generation']...)\n",
      "adding document #70000 to Dictionary(54543 unique tokens: ['...', 'entire', 'ever', 'filmgoers', 'generation']...)\n",
      "adding document #80000 to Dictionary(58569 unique tokens: ['...', 'entire', 'ever', 'filmgoers', 'generation']...)\n",
      "adding document #90000 to Dictionary(62811 unique tokens: ['...', 'entire', 'ever', 'filmgoers', 'generation']...)\n",
      "built Dictionary(67734 unique tokens: ['...', 'entire', 'ever', 'filmgoers', 'generation']...) from 100000 documents (total 1149504 corpus positions)\n"
     ]
    }
   ],
   "source": [
    "from gensim import corpora\n",
    "\n",
    "# Create a dictionary from list of documents in order to create BOW model\n",
    "dictionary = corpora.Dictionary(cleaned)"
   ]
  },
  {
   "cell_type": "code",
   "execution_count": 13,
   "metadata": {},
   "outputs": [
    {
     "name": "stdout",
     "output_type": "stream",
     "text": [
      "Example review featurized in Bag of Words :\n",
      " [('still', 1), ('charm', 1), ('concept', 1), ('could', 1), ('design', 1), ('engulfed', 1), ('execution', 1), ('ingenious', 1), ('postage', 1), ('screen', 1), ('stamp-sized', 1), ('watch', 1)]\n"
     ]
    }
   ],
   "source": [
    "# Create a Corpus based on BOW Format.\n",
    "corpus = [dictionary.doc2bow(text) for text in cleaned]\n",
    "print('Example review featurized in Bag of Words :\\n {}'.format([(dictionary[i[0]], i[1]) for i in corpus[n]]))"
   ]
  },
  {
   "cell_type": "markdown",
   "metadata": {},
   "source": [
    "Note that when we use this model to featurize text:\n",
    "- The length of each feature vector will be the size of the vocabulary in the corpus\n",
    "- Thus each body of text will have a lot of zeroes"
   ]
  },
  {
   "cell_type": "markdown",
   "metadata": {},
   "source": [
    "### TF-IDF"
   ]
  },
  {
   "cell_type": "markdown",
   "metadata": {},
   "source": [
    "__Term Frequency__: Number of occurrences of a word in a document  \n",
    "__Inverse Document Frequency__: Number of documents that contain a certain word scaled by a weight  \n",
    "__Term Frequency - Inverse Document Frequency__: (Number of ocurrences of word $w$ in text $T$) * $log$(Number of documents in a corpus/Number of documents containing word $w$)\n",
    "\n"
   ]
  },
  {
   "cell_type": "markdown",
   "metadata": {},
   "source": [
    "Let's check out the TF-IDF scores of the previous movie review we examined."
   ]
  },
  {
   "cell_type": "code",
   "execution_count": 16,
   "metadata": {},
   "outputs": [
    {
     "name": "stdout",
     "output_type": "stream",
     "text": [
      "collecting document frequencies\n",
      "PROGRESS: processing document #0\n",
      "PROGRESS: processing document #10000\n",
      "PROGRESS: processing document #20000\n",
      "PROGRESS: processing document #30000\n",
      "PROGRESS: processing document #40000\n",
      "PROGRESS: processing document #50000\n",
      "PROGRESS: processing document #60000\n",
      "PROGRESS: processing document #70000\n",
      "PROGRESS: processing document #80000\n",
      "PROGRESS: processing document #90000\n",
      "calculating IDF weights for 100000 documents and 67733 features (1111018 matrix non-zeros)\n",
      "Example review featurized with TF-IDF scores : \n",
      "[('still', 0.152), ('charm', 0.206), ('concept', 0.244), ('could', 0.159), ('design', 0.25), ('engulfed', 0.43), ('execution', 0.259), ('ingenious', 0.293), ('postage', 0.414), ('screen', 0.176), ('stamp-sized', 0.458), ('watch', 0.191)]\n"
     ]
    }
   ],
   "source": [
    "from gensim import corpora, models\n",
    "\n",
    "#Create a TFIDF Model for the corpus\n",
    "tfidf = models.TfidfModel(corpus)\n",
    "\n",
    "print('Example review featurized with TF-IDF scores : \\n{}'.format([(dictionary[i[0]], round(i[1],3)) for i in tfidf[corpus[n]]]))"
   ]
  },
  {
   "cell_type": "markdown",
   "metadata": {},
   "source": [
    "Looks much more like a feature vector that we can use for text categorization!  \n",
    "Note that in the TF-IDF model:\n",
    "- If a term frequently occurs in the corpus(i.e. stopwords, the term $like$), it is scaled to a lower score\n",
    "- Rarer terms will generally have higher scores. They tend to be more \"informative\" and descriptive.\n",
    "- A term that occurs frequently in a small number of documents within the corpus will have the highest scores."
   ]
  },
  {
   "cell_type": "markdown",
   "metadata": {},
   "source": [
    "![](images/tfidf.jpg)"
   ]
  },
  {
   "cell_type": "markdown",
   "metadata": {},
   "source": [
    "## Term-Context"
   ]
  },
  {
   "cell_type": "markdown",
   "metadata": {},
   "source": [
    "The vast majority of NLP works regards as atomic symbols: king, queen, book, etc.\n",
    "\n",
    "In vector space terms, this vector has one $1 $ and a lot of zeros.   \n",
    "$king =  [1, 0, 0, 0, 0, 0, 0, 0, 0]$   \n",
    "$queen = [0, 1, 0, 0, 0, 0, 0, 0, 0]$   \n",
    "$book =  [0, 0, 1, 0, 0, 0, 0, 0, 0]$  \n",
    "\n",
    "It is called a \"one-hot\" encoding representation. It is a common way to represent categories in models. However, it is very sparse(as we saw from the BOW model); each row is mostly 0s.  \n",
    "You can get more value by representing a word by its neighorbors"
   ]
  },
  {
   "cell_type": "markdown",
   "metadata": {},
   "source": [
    "Instead of using entire documents, we can use small contexts to a term.\n",
    "- Paragraphs\n",
    "- Sentences\n",
    "- A window of a sequence of consecutive terms\n",
    "\n",
    "In this way, a word is defined over counts of context words. The assumption is that two words that appear in similar contexts are similar themselves."
   ]
  },
  {
   "cell_type": "markdown",
   "metadata": {},
   "source": [
    "But count-based models have disadvantages:\n",
    "- vector sizes become huge, equal to vocabulary size\n",
    "    - sparsity\n",
    "    - curse of dimensionality (Go through [this notebook](https://github.com/mike-tamir/tamir_extras/blob/master/Curse_of_Dim_walkthrough.ipynb) for more detailed information)\n",
    "    - computationally expensive\n",
    "    "
   ]
  },
  {
   "cell_type": "markdown",
   "metadata": {},
   "source": [
    "# Word2Vec"
   ]
  },
  {
   "cell_type": "markdown",
   "metadata": {},
   "source": [
    "Word2Vec is an unsupervised neural network model that maximizes similarity between contextual neighbors while minimizing similarity for unseen contexts.\n",
    "Initial vectors are generated randomly and converge as the models is trained on the corpus through a sliding window.\n",
    "Target Vector sizes are set at the beginning of the training process, so the vectors are dense and do not need dimensionality reduction techniques.\n",
    "\n"
   ]
  },
  {
   "cell_type": "markdown",
   "metadata": {},
   "source": [
    "## Continuous Bag of Words"
   ]
  },
  {
   "cell_type": "markdown",
   "metadata": {},
   "source": [
    "![](images/cbow.png)"
   ]
  },
  {
   "cell_type": "markdown",
   "metadata": {},
   "source": [
    "Training objective is to maiximize the probability of observing the correct target word $w_t$ given context words $w_{c1}, w_{c2}, ... w_{cj}$\n",
    "\n",
    " $$ C = -log p(w_t | w_{c1} ... w_{cj}) $$"
   ]
  },
  {
   "cell_type": "markdown",
   "metadata": {},
   "source": [
    "The prediction vector is set as an average of all the context word vectors"
   ]
  },
  {
   "cell_type": "markdown",
   "metadata": {},
   "source": [
    "## Skip-gram"
   ]
  },
  {
   "cell_type": "markdown",
   "metadata": {},
   "source": [
    "![](images/skip-gram.png)"
   ]
  },
  {
   "cell_type": "markdown",
   "metadata": {},
   "source": [
    "Training objective is to maiximize the probability of observing the correct context words $w_{ci}$ given target word $w_{t}$\n",
    "\n",
    " $$ C = -\\sum^{j}_{i=1}log p(w_{ci} | w_{t}) $$\n",
    " \n",
    "In this case, the prediction vector is the the target word vector."
   ]
  },
  {
   "cell_type": "markdown",
   "metadata": {},
   "source": [
    "## Example"
   ]
  },
  {
   "cell_type": "markdown",
   "metadata": {},
   "source": [
    "Now let's try training our own word embeddings and looking at what we can do with them."
   ]
  },
  {
   "cell_type": "markdown",
   "metadata": {},
   "source": [
    "Word2Vec\n",
    "- `size`: Number of dimensions for the word embedding model\n",
    "- `window`: Number of context words to observe in each direction\n",
    "- `min_count`: Minimum frequency for words included in model\n",
    "- `sg` (Skip-Gram): '0' indicates CBOW model; '1' indicates Skip-Gram\n",
    "- `alpha`: Learning rate (initial); prevents model from over-correcting, enables finer tuning\n",
    "- `iterations`: Number of passes through dataset\n",
    "- `batch_words`: Number of words to sample from data during each pass"
   ]
  },
  {
   "cell_type": "code",
   "execution_count": 27,
   "metadata": {
    "scrolled": false
   },
   "outputs": [],
   "source": [
    "from nltk.corpus import gutenberg\n",
    "from gensim import models\n",
    "\n",
    "# Training word2vec model on Gutenberg corpus. This may take a few minutes.\n",
    "model = models.Word2Vec(gutenberg.sents(),\n",
    "                        size = 300,\n",
    "                        window = 5,\n",
    "                        min_count = 5,\n",
    "                        sg = 0,\n",
    "                        alpha = 0.025,\n",
    "                        iter=10,\n",
    "                        batch_words = 10000)"
   ]
  },
  {
   "cell_type": "markdown",
   "metadata": {},
   "source": [
    "![](http://multithreaded.stitchfix.com/assets/images/blog/vectors.gif)"
   ]
  },
  {
   "cell_type": "markdown",
   "metadata": {},
   "source": [
    "The word vectors are directions in space and can encode relationships between words.  \n",
    "\n",
    "The proximity of words to each other can be calculated through their cosine similarity."
   ]
  },
  {
   "cell_type": "code",
   "execution_count": 28,
   "metadata": {},
   "outputs": [
    {
     "data": {
      "text/plain": [
       "[('child', 0.7043896913528442),\n",
       " ('girl', 0.7026146650314331),\n",
       " ('Farmer', 0.6657854318618774),\n",
       " ('lad', 0.6657633781433105),\n",
       " ('maid', 0.6388695240020752),\n",
       " ('gentleman', 0.6298651695251465),\n",
       " ('dog', 0.6266440153121948),\n",
       " ('fellow', 0.6169717907905579),\n",
       " ('carpenter', 0.6034881472587585),\n",
       " ('lover', 0.5977380275726318)]"
      ]
     },
     "execution_count": 28,
     "metadata": {},
     "output_type": "execute_result"
    }
   ],
   "source": [
    "# words closest to the token 'boy'\n",
    "model.wv.most_similar(positive=['boy'])"
   ]
  },
  {
   "cell_type": "code",
   "execution_count": 29,
   "metadata": {},
   "outputs": [
    {
     "data": {
      "text/plain": [
       "[('bread', 0.6663446426391602),\n",
       " ('cattle', 0.6603545546531677),\n",
       " ('fruits', 0.6586528420448303),\n",
       " ('grapes', 0.646485447883606),\n",
       " ('flocks', 0.64019775390625),\n",
       " ('fruit', 0.6326041221618652),\n",
       " ('money', 0.6315380334854126),\n",
       " ('wine', 0.6209002137184143),\n",
       " ('meat', 0.6173980236053467),\n",
       " ('sheep', 0.6080909967422485)]"
      ]
     },
     "execution_count": 29,
     "metadata": {},
     "output_type": "execute_result"
    }
   ],
   "source": [
    "# words closest to the token 'food'\n",
    "model.wv.most_similar(positive=['food'])"
   ]
  },
  {
   "cell_type": "code",
   "execution_count": 30,
   "metadata": {},
   "outputs": [
    {
     "data": {
      "text/plain": [
       "[('Cecilia', 0.44859397411346436),\n",
       " ('treacherous', 0.43590742349624634),\n",
       " ('Mary', 0.42707157135009766),\n",
       " ('Anne', 0.42512959241867065),\n",
       " ('particularly', 0.4147427976131439),\n",
       " ('suited', 0.4008435010910034),\n",
       " ('Fairfax', 0.3951857388019562),\n",
       " ('Emma', 0.39128512144088745),\n",
       " ('diplomacy', 0.3884701728820801),\n",
       " ('fancying', 0.37894153594970703)]"
      ]
     },
     "execution_count": 30,
     "metadata": {},
     "output_type": "execute_result"
    }
   ],
   "source": [
    "# she + her + hers + herself - he - him - his - himself\n",
    "model.wv.most_similar(positive=['she','her','hers','herself'], negative=['he','him','his','himself'])"
   ]
  },
  {
   "cell_type": "code",
   "execution_count": 31,
   "metadata": {
    "collapsed": true
   },
   "outputs": [],
   "source": [
    "# Let's limit ourselves to top 50 words that related to food to visualize how they relate in vector space\n",
    "f_tokens = [token for token,weight in model.wv.most_similar(positive=['food'], topn=50)]"
   ]
  },
  {
   "cell_type": "code",
   "execution_count": 32,
   "metadata": {
    "collapsed": true
   },
   "outputs": [],
   "source": [
    "from sklearn.metrics import pairwise\n",
    "vectors = [model.wv[word] for word in f_tokens]\n",
    "dist_matrix = pairwise.pairwise_distances(vectors, metric='cosine')"
   ]
  },
  {
   "cell_type": "code",
   "execution_count": 33,
   "metadata": {
    "collapsed": true
   },
   "outputs": [],
   "source": [
    "from sklearn.manifold import MDS\n",
    "mds = MDS(n_components = 2, dissimilarity='precomputed')\n",
    "embeddings = mds.fit_transform(dist_matrix)"
   ]
  },
  {
   "cell_type": "code",
   "execution_count": 34,
   "metadata": {},
   "outputs": [
    {
     "data": {
      "image/png": "[encoded data removed]",
      "text/plain": [
       "<matplotlib.figure.Figure at 0x11cefac18>"
      ]
     },
     "metadata": {},
     "output_type": "display_data"
    }
   ],
   "source": [
    "import matplotlib.pyplot as plt\n",
    "%matplotlib inline\n",
    "\n",
    "\n",
    "_, ax = plt.subplots(figsize=(14,10))\n",
    "ax.scatter(embeddings[:,0], embeddings[:,1], alpha=0)\n",
    "for i in range(len(vectors)):\n",
    "    ax.annotate(f_tokens[i], ((embeddings[i,0], embeddings[i,1])))"
   ]
  },
  {
   "cell_type": "markdown",
   "metadata": {},
   "source": [
    "**What kind of clusters of food-themed terms can you notice?**\n",
    "\n",
    "- Words that are grouped together generally appear in the same context\n",
    "    - Some examples:\n",
    "        - vineyards - vines - grapes\n",
    "        - hunger - thirst\n",
    "        - corn - wheat - barley\n",
    "- Note that we're dealing with vectors that have been reduced from 300 dimensions to 2 dimensions for visualization purposes. We have also limited our subset to those nearest to the token *food*.\n",
    "- Also note that we are working with the [Gutenberg corpus](http://www.nltk.org/book/ch02.html), which is a collection of mostly old English literature books, such as works from Jane Austen and William Shakespeare."
   ]
  },
  {
   "cell_type": "markdown",
   "metadata": {},
   "source": [
    "# Doc2Vec"
   ]
  },
  {
   "cell_type": "markdown",
   "metadata": {
    "collapsed": true
   },
   "source": [
    "---\n",
    "Doc2Vec, the most powerful extension of word2vec\n",
    "---\n",
    "\n",
    "Doc2vec (aka paragraph2vec or sentence embeddings) extrapolates the word2vec algorithm to larger blocks of text, such as sentences, paragraphs or entire documents. \n",
    "\n",
    "![](images/overview_word.png)\n",
    "\n",
    "![](images/overview_paragraph.png)\n",
    "\n",
    "Every paragraph is mapped to a unique vector, represented by a column in matrix D and every word is also mapped to a unique vector, represented by a column in matrix W . \n",
    "The paragraph vector and word vectors are averaged or concatenated to predict the next word in a context. \n",
    "\n",
    "Each additional context does not have be a fixed length (because it is vectorized and projected into the same space).\n",
    "\n",
    "Additional parameters but the updates are sparse thus still efficent.\n",
    "\n",
    "__2 architectures__:\n",
    "\n",
    "1. Distrubted Memory (DM)\n",
    "2. Distrubted Bag of Words (DBOW)"
   ]
  },
  {
   "cell_type": "markdown",
   "metadata": {},
   "source": [
    "## Distrubted Memory (DM)\n",
    "\n",
    "__Highlights__:\n",
    "\n",
    "- Assign and randomly initialize paragraph vector for each doc\n",
    "- Predict next word using context words and paragraph vector\n",
    "- Slide context window across doc but keep paragraph vector fixed (hence: Distrubted Memory)\n",
    "- Update weights via SGD and backprop"
   ]
  },
  {
   "cell_type": "markdown",
   "metadata": {},
   "source": [
    "## Distrubted Bag of Words (DBOW)\n",
    "\n",
    "__Highlights__:\n",
    "\n",
    "- ONLY use paragraph vectors (no word vectors)\n",
    "- Take a window of words in a paragraph and randomly sample which ones to predict using paragraph vector\n",
    "- Simpler, more memory effecient\n",
    "\n",
    "![](images/DBOW.png)"
   ]
  },
  {
   "cell_type": "markdown",
   "metadata": {},
   "source": [
    "Let's try building our own Doc2Vec model with Gensim"
   ]
  },
  {
   "cell_type": "markdown",
   "metadata": {},
   "source": [
    "Doc2Vec Parameters\n",
    "- `size`: Number of dimensions for the embedding model\n",
    "- `window`: Number of context words to observe in each direction within a document\n",
    "- `min_count`: Minimum frequency for words included in model\n",
    "- `dm` (distributed memory): '0' indicates DBOW model; '1' indicates DM\n",
    "- `alpha`: Learning rate (initial); prevents model from over-correcting, enables finer tuning\n",
    "- `iter`: Number of iterations through corpus"
   ]
  },
  {
   "cell_type": "code",
   "execution_count": 35,
   "metadata": {},
   "outputs": [
    {
     "name": "stdout",
     "output_type": "stream",
     "text": [
      "collecting all words and their counts\n",
      "PROGRESS: at example #0, processed 0 words (0/s), 0 word types, 0 tags\n",
      "PROGRESS: at example #10000, processed 1431895 words (4396683/s), 60881 word types, 10000 tags\n",
      "collected 63348 word types and 10788 unique tags from a corpus of 10788 examples and 1548468 words\n",
      "Loading a fresh vocabulary\n",
      "min_count=5 retains 15255 unique words (24% of original 63348, drops 48093)\n",
      "min_count=5 leaves 1472770 word corpus (95% of original 1548468, drops 75698)\n",
      "deleting the raw counts dictionary of 63348 items\n",
      "sample=0.001 downsamples 45 most-common words\n",
      "downsampling leaves estimated 1118059 word corpus (75.9% of prior 1472770)\n",
      "estimated required memory for 15255 words and 300 dimensions: 57185100 bytes\n",
      "resetting layer weights\n"
     ]
    }
   ],
   "source": [
    "from gensim.models import Doc2Vec\n",
    "from gensim.models.doc2vec import TaggedDocument\n",
    "from nltk.corpus import reuters\n",
    "\n",
    "# Tokenize Reuters corpus\n",
    "tokenized_docs = [nltk.word_tokenize(reuters.raw(fileid)) for fileid in reuters.fileids()]\n",
    "\n",
    "# Convert tokenized documents to TaggedDocuments\n",
    "tagged_docs = [TaggedDocument(doc, tags=[idx]) for idx, doc in enumerate(tokenized_docs)]\n",
    "\n",
    "# Create and train the doc2vec model. May take a few seconds\n",
    "doc2vec = Doc2Vec(size=300, window=5, min_count=5, dm = 1, iter=10)\n",
    "\n",
    "# Build the word2vec model from the corpus\n",
    "doc2vec.build_vocab(tagged_docs)"
   ]
  },
  {
   "cell_type": "markdown",
   "metadata": {},
   "source": [
    "You can also fortify your Doc2Vec models with pre-trained Word2Vec models.\n",
    "Let's try re-training with GoogleNews-trained word vectors.  \n",
    "Download [here](https://drive.google.com/file/d/0B7XkCwpI5KDYNlNUTTlSS21pQmM/edit?usp=sharing)  \n",
    "(Size is 1.5gb)"
   ]
  },
  {
   "cell_type": "code",
   "execution_count": null,
   "metadata": {
    "collapsed": true
   },
   "outputs": [],
   "source": [
    "#This may take a few minutes to run\n",
    "w2v_loc = # your saved location of GoogleNews-vectors-negative300.bin.gz\n",
    "doc2vec.intersect_word2vec_format(w2v_loc, binary=True)"
   ]
  },
  {
   "cell_type": "code",
   "execution_count": 39,
   "metadata": {},
   "outputs": [
    {
     "name": "stdout",
     "output_type": "stream",
     "text": [
      "training model with 3 workers on 15255 vocabulary and 300 features, using sg=0 hs=0 sample=0.001 negative=5 window=5\n",
      "PROGRESS: at 4.56% examples, 501506 words/s, in_qsize 6, out_qsize 0\n",
      "PROGRESS: at 9.25% examples, 518806 words/s, in_qsize 6, out_qsize 0\n",
      "PROGRESS: at 14.56% examples, 541083 words/s, in_qsize 5, out_qsize 0\n",
      "PROGRESS: at 19.44% examples, 545440 words/s, in_qsize 5, out_qsize 0\n",
      "PROGRESS: at 24.75% examples, 553349 words/s, in_qsize 6, out_qsize 0\n",
      "PROGRESS: at 28.82% examples, 537311 words/s, in_qsize 5, out_qsize 0\n",
      "PROGRESS: at 32.49% examples, 519493 words/s, in_qsize 5, out_qsize 0\n",
      "PROGRESS: at 36.55% examples, 511619 words/s, in_qsize 5, out_qsize 0\n",
      "PROGRESS: at 40.50% examples, 504437 words/s, in_qsize 5, out_qsize 0\n",
      "PROGRESS: at 45.47% examples, 507292 words/s, in_qsize 6, out_qsize 0\n",
      "PROGRESS: at 50.50% examples, 513053 words/s, in_qsize 5, out_qsize 0\n",
      "PROGRESS: at 55.35% examples, 514623 words/s, in_qsize 6, out_qsize 0\n",
      "PROGRESS: at 59.87% examples, 515344 words/s, in_qsize 6, out_qsize 0\n",
      "PROGRESS: at 64.39% examples, 512104 words/s, in_qsize 6, out_qsize 0\n",
      "PROGRESS: at 68.21% examples, 506879 words/s, in_qsize 5, out_qsize 0\n",
      "PROGRESS: at 73.00% examples, 507863 words/s, in_qsize 5, out_qsize 0\n",
      "PROGRESS: at 78.15% examples, 512007 words/s, in_qsize 5, out_qsize 0\n",
      "PROGRESS: at 83.46% examples, 516562 words/s, in_qsize 6, out_qsize 0\n",
      "PROGRESS: at 88.90% examples, 521565 words/s, in_qsize 6, out_qsize 0\n",
      "PROGRESS: at 94.39% examples, 525719 words/s, in_qsize 5, out_qsize 0\n",
      "PROGRESS: at 99.62% examples, 528600 words/s, in_qsize 5, out_qsize 0\n",
      "worker thread finished; awaiting finish of 2 more threads\n",
      "worker thread finished; awaiting finish of 1 more threads\n",
      "worker thread finished; awaiting finish of 0 more threads\n",
      "training on 15484680 raw words (11287240 effective words) took 21.4s, 528654 effective words/s\n"
     ]
    },
    {
     "data": {
      "text/plain": [
       "11287240"
      ]
     },
     "execution_count": 39,
     "metadata": {},
     "output_type": "execute_result"
    }
   ],
   "source": [
    "doc2vec.train(tagged_docs, epochs=10, total_examples=doc2vec.corpus_count)"
   ]
  },
  {
   "cell_type": "markdown",
   "metadata": {},
   "source": [
    "# Exercises"
   ]
  },
  {
   "cell_type": "markdown",
   "metadata": {},
   "source": [
    "Using what you have learned from Week 1 and today's lecture, build a binary classifier for the movie reviews dataset in `data/movie_reviews.csv`."
   ]
  },
  {
   "cell_type": "code",
   "execution_count": null,
   "metadata": {
    "collapsed": true
   },
   "outputs": [],
   "source": []
  }
 ],
 "metadata": {
  "kernelspec": {
   "display_name": "Python 3",
   "language": "python",
   "name": "python3"
  },
  "language_info": {
   "codemirror_mode": {
    "name": "ipython",
    "version": 3
   },
   "file_extension": ".py",
   "mimetype": "text/x-python",
   "name": "python",
   "nbconvert_exporter": "python",
   "pygments_lexer": "ipython3",
   "version": "3.6.5"
  },
  "toc": {
   "colors": {
    "hover_highlight": "#DAA520",
    "running_highlight": "#FF0000",
    "selected_highlight": "#FFD700"
   },
   "moveMenuLeft": true,
   "nav_menu": {
    "height": "248px",
    "width": "252px"
   },
   "navigate_menu": true,
   "number_sections": true,
   "sideBar": true,
   "threshold": 4,
   "toc_cell": true,
   "toc_section_display": "block",
   "toc_window_display": false
  }
 },
 "nbformat": 4,
 "nbformat_minor": 2
}
